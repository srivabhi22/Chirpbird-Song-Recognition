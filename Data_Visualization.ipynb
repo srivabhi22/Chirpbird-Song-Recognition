{
 "cells": [
  {
   "cell_type": "code",
   "execution_count": null,
   "metadata": {},
   "outputs": [],
   "source": [
    "X.hist(figsize=(15,15),bins=50)"
   ]
  },
  {
   "cell_type": "code",
   "execution_count": null,
   "metadata": {},
   "outputs": [],
   "source": [
    "unique_bird_labels=label_encoder.fit_transform(y.unique())\n",
    "bird_code=dict(zip(unique_bird_labels,y.unique()))\n",
    "y=label_encoder.fit_transform(y)\n"
   ]
  },
  {
   "cell_type": "code",
   "execution_count": null,
   "metadata": {},
   "outputs": [],
   "source": [
    "target_df=pd.DataFrame({'target':y})"
   ]
  },
  {
   "cell_type": "code",
   "execution_count": null,
   "metadata": {},
   "outputs": [],
   "source": [
    "new_data=pd.concat([X,target_df],axis=1,join=\"inner\")\n",
    "new_data=new_data.drop(['filename'],axis=1)"
   ]
  },
  {
   "cell_type": "code",
   "execution_count": null,
   "metadata": {},
   "outputs": [],
   "source": [
    "corr_matrix=new_data.corr()\n",
    "corr_matrix"
   ]
  },
  {
   "cell_type": "code",
   "execution_count": null,
   "metadata": {},
   "outputs": [],
   "source": [
    "plt.figure(figsize=(25,25))\n",
    "sns.heatmap(corr_matrix,annot=True)\n",
    "plt.show()"
   ]
  },
  {
   "cell_type": "code",
   "execution_count": null,
   "metadata": {},
   "outputs": [],
   "source": [
    "abs(corr_matrix['target']).plot(kind='bar')\n",
    "#we see that only species feature is of great importance other than that we can drop.\n",
    "#but still for convention, we can take longitude,latitutde,file_type,month and country."
   ]
  },
  {
   "cell_type": "code",
   "execution_count": null,
   "metadata": {},
   "outputs": [],
   "source": [
    "#we are seeing that file type and type are the same feature so we are dropping type\n",
    "X=X.drop(['type','rating','playback_used','channels','pitch','duration','speed','secondary_labels','bird_seen','sci_name','location','sampling_rate','license'],axis=1)\n",
    "X"
   ]
  },
  {
   "cell_type": "code",
   "execution_count": null,
   "metadata": {},
   "outputs": [],
   "source": [
    "import librosa\n",
    "import IPython.display as ipd\n",
    "import matplotlib.pyplot as plt\n",
    "sub = pd.read_csv(\"/kaggle/input/birdsong-recognition/sample_submission.csv\")\n",
    "sub.to_csv(\"submission.csv\", index=False)"
   ]
  },
  {
   "cell_type": "code",
   "execution_count": null,
   "metadata": {},
   "outputs": [],
   "source": [
    "audio_file_paths = ['/kaggle/input/birdsong-recognition/train_audio/aldfly/XC134874.mp3', '/kaggle/input/birdsong-recognition/train_audio/amecro/XC114560.mp3', '/kaggle/input/birdsong-recognition/train_audio/bawwar/XC130499.mp3',\n",
    "                   '/kaggle/input/birdsong-recognition/train_audio/camwar/XC133791.mp3','/kaggle/input/birdsong-recognition/train_audio/cangoo/XC164606.mp3','/kaggle/input/birdsong-recognition/train_audio/comnig/XC156190.mp3',\n",
    "                   '/kaggle/input/birdsong-recognition/train_audio/easblu/XC100032.mp3','/kaggle/input/birdsong-recognition/train_audio/grycat/XC135013.mp3','/kaggle/input/birdsong-recognition/train_audio/hamfly/XC123910.mp3','/kaggle/input/birdsong-recognition/train_audio/lesgol/XC112926.mp3']\n",
    "\n",
    "# Loop through each audio file path\n",
    "for audio_file_path in audio_file_paths:\n",
    "    # Create an Audio instance for the audio file\n",
    "    data_audio, sample_rate = librosa.load(audio_file_path)\n",
    "    audio = ipd.Audio(data=data_audio,rate=sample_rate)\n",
    "\n",
    "    print(audio_file_path)\n",
    "    display(audio)\n",
    "    \n",
    "    \n",
    "##displaying audios of some categories of birds"
   ]
  },
  {
   "cell_type": "code",
   "execution_count": null,
   "metadata": {},
   "outputs": [],
   "source": [
    "audio_list=[]\n",
    "sr=[]\n",
    "for audio_file_path in audio_file_paths:\n",
    "    # Create an Audio instance for the audio file\n",
    "    data_audio, sample_rate = librosa.load(audio_file_path)\n",
    "    audio_list.append(data_audio)\n",
    "    sr.append(sample_rate)\n",
    "\n",
    "\n",
    "D1 = librosa.amplitude_to_db(np.abs(librosa.stft(audio_list[0])), ref=np.max)\n",
    "D2 = librosa.amplitude_to_db(np.abs(librosa.stft(audio_list[1])), ref=np.max)\n",
    "D3 = librosa.amplitude_to_db(np.abs(librosa.stft(audio_list[2])), ref=np.max)\n",
    "D4 = librosa.amplitude_to_db(np.abs(librosa.stft(audio_list[3])), ref=np.max)\n",
    "D5 = librosa.amplitude_to_db(np.abs(librosa.stft(audio_list[4])), ref=np.max)\n",
    "D6 = librosa.amplitude_to_db(np.abs(librosa.stft(audio_list[5])), ref=np.max)\n",
    "D7 = librosa.amplitude_to_db(np.abs(librosa.stft(audio_list[6])), ref=np.max)\n",
    "D8 = librosa.amplitude_to_db(np.abs(librosa.stft(audio_list[7])), ref=np.max)\n",
    "D9 = librosa.amplitude_to_db(np.abs(librosa.stft(audio_list[8])), ref=np.max)\n",
    "D10 = librosa.amplitude_to_db(np.abs(librosa.stft(audio_list[9])), ref=np.max)\n",
    "\n",
    "\n",
    "\n",
    "# Plotting the spectrograms\n",
    "\n",
    "plt.figure(figsize=(25,25))\n",
    "\n",
    "plt.subplot(3,4,1)\n",
    "librosa.display.specshow(D1, sr=sr[0], x_axis='time', y_axis='log')\n",
    "plt.colorbar(format='%+2.0f dB')\n",
    "plt.title('aldfly')\n",
    "\n",
    "plt.subplot(3,4,2)\n",
    "librosa.display.specshow(D2, sr=sr[1], x_axis='time', y_axis='log')\n",
    "plt.colorbar(format='%+2.0f dB')\n",
    "plt.title('amecro')\n",
    "\n",
    "plt.subplot(3,4,3)\n",
    "librosa.display.specshow(D3, sr=sr[2], x_axis='time', y_axis='log')\n",
    "plt.colorbar(format='%+2.0f dB')\n",
    "plt.title('bawwar')\n",
    "\n",
    "plt.subplot(3,4,4)\n",
    "librosa.display.specshow(D4, sr=sr[3], x_axis='time', y_axis='log')\n",
    "plt.colorbar(format='%+2.0f dB')\n",
    "plt.title('camwar')\n",
    "\n",
    "plt.subplot(3,4,5)\n",
    "librosa.display.specshow(D5, sr=sr[4], x_axis='time', y_axis='log')\n",
    "plt.colorbar(format='%+2.0f dB')\n",
    "plt.title('kangoo')\n",
    "\n",
    "plt.subplot(3,4,6)\n",
    "librosa.display.specshow(D6, sr=sr[5], x_axis='time', y_axis='log')\n",
    "plt.colorbar(format='%+2.0f dB')\n",
    "plt.title('comnig')\n",
    "\n",
    "\n",
    "plt.subplot(3,4,7)\n",
    "librosa.display.specshow(D7, sr=sr[6], x_axis='time', y_axis='log')\n",
    "plt.colorbar(format='%+2.0f dB')\n",
    "plt.title('easblu')\n",
    "\n",
    "\n",
    "plt.subplot(3,4,8)\n",
    "librosa.display.specshow(D8, sr=sr[7], x_axis='time', y_axis='log')\n",
    "plt.colorbar(format='%+2.0f dB')\n",
    "plt.title('grycat')\n",
    "\n",
    "\n",
    "plt.subplot(3,4,9)\n",
    "librosa.display.specshow(D9, sr=sr[8], x_axis='time', y_axis='log')\n",
    "plt.colorbar(format='%+2.0f dB')\n",
    "plt.title('hamfly')\n",
    "\n",
    "\n",
    "plt.subplot(3,4,10)\n",
    "librosa.display.specshow(D10, sr=sr[9], x_axis='time', y_axis='log')\n",
    "plt.colorbar(format='%+2.0f dB')\n",
    "plt.title('lesgol')\n",
    "\n",
    "\n",
    "\n",
    "\n",
    "plt.show()"
   ]
  },
  {
   "cell_type": "code",
   "execution_count": null,
   "metadata": {},
   "outputs": [],
   "source": []
  },
  {
   "cell_type": "code",
   "execution_count": null,
   "metadata": {},
   "outputs": [],
   "source": []
  },
  {
   "cell_type": "code",
   "execution_count": null,
   "metadata": {},
   "outputs": [],
   "source": []
  }
 ],
 "metadata": {
  "language_info": {
   "name": "python"
  }
 },
 "nbformat": 4,
 "nbformat_minor": 2
}
